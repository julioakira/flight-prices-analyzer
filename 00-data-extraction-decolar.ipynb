{
 "cells": [
  {
   "cell_type": "code",
   "execution_count": 243,
   "id": "ba0e0185-fb24-4204-9c7b-280236059a92",
   "metadata": {},
   "outputs": [],
   "source": [
    "from selenium import webdriver\n",
    "from selenium.webdriver.chrome.service import Service\n",
    "from selenium.webdriver.common.keys import Keys\n",
    "from selenium.webdriver.common.by import By\n",
    "from selenium.webdriver.common.action_chains import ActionChains\n",
    "from webdriver_manager.chrome import ChromeDriverManager"
   ]
  },
  {
   "cell_type": "code",
   "execution_count": 244,
   "id": "7926b477-901b-437c-b81c-0a032d0e6ab9",
   "metadata": {},
   "outputs": [],
   "source": [
    "# This is just a POC to check if it can be done\n",
    "# and will be refactored in the future\n",
    "def search(url: str, page_title: str):\n",
    "    # Initializes Browser\n",
    "    service = Service(ChromeDriverManager().install())\n",
    "    driver = webdriver.Chrome(service=service)\n",
    "    driver.get(url)\n",
    "    assert page_title in driver.title\n",
    "    # Fill Origin\n",
    "    # Starts actions\n",
    "    routine = ActionChains(driver)\n",
    "    \n",
    "    # Selects cheaper dates\n",
    "    cheaper = driver.find_element(By.XPATH, '//*[@id=\"searchbox-sbox-box-flights\"]/div/div/div/div[3]/div[1]/div[1]/div[3]/span/span/label')\n",
    "    routine.click(cheaper)\n",
    "    routine.pause(3)\n",
    "    routine.perform()\n",
    "    routine.reset_actions()\n",
    "    \n",
    "    # Fill Origin\n",
    "    origin = driver.find_element(By.XPATH, '//*[@id=\"searchbox-sbox-box-flights\"]/div/div/div/div[3]/div[1]/div[1]/div[1]/div/div[1]/div[1]/div/input')\n",
    "    routine.click(origin)\n",
    "    routine.key_down(Keys.CONTROL)\n",
    "    routine.send_keys('a')\n",
    "    routine.key_up(Keys.CONTROL)\n",
    "    routine.send_keys(Keys.DELETE)\n",
    "    routine.send_keys('Vitória, Espírito Santo, Brasil')\n",
    "    routine.pause(3)\n",
    "    routine.perform()\n",
    "    routine.reset_actions()\n",
    "    \n",
    "    # Confirm Origin\n",
    "    confirmation = driver.find_element(By.XPATH, '/html/body/div[8]/div/div/ul/li')\n",
    "    routine.click(confirmation)\n",
    "    routine.pause(3)\n",
    "    routine.perform()\n",
    "    routine.reset_actions()\n",
    "    \n",
    "    # Fill Destination\n",
    "    destination = driver.find_element(By.XPATH, '//*[@id=\"searchbox-sbox-box-flights\"]/div/div/div/div[3]/div[1]/div[1]/div[1]/div/div[2]/div/div/input')\n",
    "    routine.click(destination)\n",
    "    routine.key_down(Keys.CONTROL)\n",
    "    routine.send_keys('a')\n",
    "    routine.key_up(Keys.CONTROL)\n",
    "    routine.send_keys(Keys.DELETE)\n",
    "    routine.pause(3)\n",
    "    routine.send_keys('Rio de Janeiro, Rio de Janeiro, Brasil')\n",
    "    routine.pause(3)\n",
    "    routine.perform()\n",
    "    routine.reset_actions()\n",
    "    \n",
    "    # Confirm Destination\n",
    "    # This is duplicated and may be abstracted\n",
    "    routine.click(confirmation)\n",
    "    routine.pause(3)\n",
    "    routine.perform()\n",
    "    routine.reset_actions()\n",
    "    \n",
    "    # Submit\n",
    "    submit = driver.find_element(By.XPATH, '//*[@id=\"searchbox-sbox-box-flights\"]/div/div/div/div[3]/div[3]/button')\n",
    "    routine.click(submit)\n",
    "    routine.pause(20)\n",
    "    routine.perform()\n",
    "    routine.reset_actions()"
   ]
  },
  {
   "cell_type": "code",
   "execution_count": 242,
   "id": "87c26c71-8afd-4242-a0f5-979426a3a348",
   "metadata": {},
   "outputs": [],
   "source": [
    "url = 'https://www.decolar.com/'\n",
    "page_title = 'Decolar'\n",
    "search(url, page_title)"
   ]
  },
  {
   "cell_type": "code",
   "execution_count": null,
   "id": "afc10882-3cc4-4ce5-a61e-b22e987de314",
   "metadata": {},
   "outputs": [],
   "source": []
  },
  {
   "cell_type": "code",
   "execution_count": null,
   "id": "a57e8a3f-f651-4a22-9fc3-4aa4a91d8906",
   "metadata": {},
   "outputs": [],
   "source": []
  },
  {
   "cell_type": "code",
   "execution_count": null,
   "id": "e124eb79-f95b-4a62-87e9-5fa71eabd547",
   "metadata": {},
   "outputs": [],
   "source": []
  },
  {
   "cell_type": "code",
   "execution_count": null,
   "id": "ec59bb68-0e5c-4eed-8766-9f5d9401326a",
   "metadata": {},
   "outputs": [],
   "source": []
  },
  {
   "cell_type": "code",
   "execution_count": null,
   "id": "6f1f2ec0-90ef-4933-b854-495d0bc9aa17",
   "metadata": {},
   "outputs": [],
   "source": []
  },
  {
   "cell_type": "code",
   "execution_count": null,
   "id": "bc980f74-69cf-4ac0-b3f0-88c526613a42",
   "metadata": {},
   "outputs": [],
   "source": []
  },
  {
   "cell_type": "code",
   "execution_count": null,
   "id": "ec4df52a-170a-41c7-aefe-cf07526a9bab",
   "metadata": {},
   "outputs": [],
   "source": []
  },
  {
   "cell_type": "code",
   "execution_count": null,
   "id": "c411c65f-d310-4557-96fb-32bf97a63d60",
   "metadata": {},
   "outputs": [],
   "source": []
  },
  {
   "cell_type": "code",
   "execution_count": null,
   "id": "ac96b9e9-9edc-4222-8ada-629b96cac335",
   "metadata": {},
   "outputs": [],
   "source": []
  },
  {
   "cell_type": "code",
   "execution_count": null,
   "id": "48a567a7-ff8b-4260-b72a-c0e2e15e0281",
   "metadata": {},
   "outputs": [],
   "source": []
  }
 ],
 "metadata": {
  "kernelspec": {
   "display_name": "Python 3 (ipykernel)",
   "language": "python",
   "name": "python3"
  },
  "language_info": {
   "codemirror_mode": {
    "name": "ipython",
    "version": 3
   },
   "file_extension": ".py",
   "mimetype": "text/x-python",
   "name": "python",
   "nbconvert_exporter": "python",
   "pygments_lexer": "ipython3",
   "version": "3.8.10"
  }
 },
 "nbformat": 4,
 "nbformat_minor": 5
}
